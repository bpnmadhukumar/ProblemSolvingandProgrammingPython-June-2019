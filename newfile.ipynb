{
 "cells": [
  {
   "cell_type": "markdown",
   "metadata": {},
   "source": [
    "##  Day Objectives:\n",
    "\n",
    "###  Regular Expressions:\n",
    "\n",
    "- Constructing Regular Expressions\n",
    "- Regular Expressions Module and related in python\n",
    "- Improving the contacts application with name and phone number validation using regular expressions\n",
    "- File Handling\n",
    "- Text files\n",
    "- upgrading the contacts application to store contact information in a text file"
   ]
  },
  {
   "cell_type": "markdown",
   "metadata": {},
   "source": [
    "## Regular Expression\n",
    "\n",
    "- pattern matching\n",
    "- symbolic notation of a pattern\n",
    "    -pattern  :Format which repeats \n",
    "    pattern(RE) - Represent the set of all strings matches that pattern\n",
    "- [0-9]  ->Any digit\n",
    "- [a-z]  ->any lowercase alphabet\n",
    "- [2468] ->All single digit multiples of 2 \n",
    "- ^[0-9]{2}$  ->only for double digit numbers\n",
    "              \n",
    "              \n",
    "              \n",
    "              ->all multiples of 5   #^[0-9]*[0,5]$\n",
    "              ->all 10 digit numbers-->^[0-9]{10}$\n",
    "              -->search for a specific word-->(\"string\") or [s][t][r][i][n][g]\n",
    "              ->validating phone number (India)(start with 9876 and following 9 digits-->^[6-9]{1}[0-9]{9}$\n",
    "              ->Email validation --> ^[0-9a-z][0-9a-z_.]{4,13}[0-9a-z][@][a-z0-9]{4,15}[.][a-z]{2,5}$\n",
    "              \n",
    "                      - username\n",
    "                              --Length of username :[6 , 15] characters\n",
    "                              --No special character other than _.\n",
    "                              --should not begin with _.\n",
    "                              --character set:all digits and alphabets\n",
    "                      - domain\n",
    "                              --Length of domain:[3,15]\n",
    "                              --character set:all digits and alphabets\n",
    "                      - extension\n",
    "                              --Length of extension:[2,4]\n",
    "                              --No special characters\n",
    "                              --character set:alphabet\n",
    "               ->any string of length 5 that start with a and end with z -->^[a]..[z]$\n",
    "                         -------->^[a].*[z]$ too many characters"
   ]
  },
  {
   "cell_type": "code",
   "execution_count": 3,
   "metadata": {},
   "outputs": [
    {
     "name": "stdout",
     "output_type": "stream",
     "text": [
      "a b c d e f g h i j k l m n o p q r s t u v w x y z "
     ]
    }
   ],
   "source": [
    "\n",
    "for i in range(97,122+1):\n",
    "    print(chr(i),end=' ')"
   ]
  },
  {
   "cell_type": "code",
   "execution_count": null,
   "metadata": {},
   "outputs": [],
   "source": []
  },
  {
   "cell_type": "code",
   "execution_count": 18,
   "metadata": {},
   "outputs": [],
   "source": [
    "#Function to validate a phone number\n",
    "\n",
    "import re\n",
    "\n",
    "def phonenumbervalidator(number):\n",
    "    pattern = '^[6-9]{1}[0-9]{9}$|^[0][6-9]{1}[0-9]{9}$'\n",
    "    if re.match(pattern,(number)):\n",
    "        return True\n",
    "    else:\n",
    "        return False "
   ]
  },
  {
   "cell_type": "code",
   "execution_count": null,
   "metadata": {},
   "outputs": [],
   "source": []
  },
  {
   "cell_type": "code",
   "execution_count": 21,
   "metadata": {},
   "outputs": [
    {
     "data": {
      "text/plain": [
       "True"
      ]
     },
     "execution_count": 21,
     "metadata": {},
     "output_type": "execute_result"
    }
   ],
   "source": [
    "import re\n",
    "\n",
    "def emailvalidator(email):\n",
    "    pattern = '^[0-9a-z][0-9a-z_.]{4,13}[0-9a-z][@][a-z0-9]{4,15}[.][a-z]{2,5}$'\n",
    "    if re.match(pattern,email):\n",
    "        return True\n",
    "    else:\n",
    "        return False       "
   ]
  },
  {
   "cell_type": "code",
   "execution_count": 37,
   "metadata": {},
   "outputs": [],
   "source": [
    "contacts={}"
   ]
  },
  {
   "cell_type": "code",
   "execution_count": 39,
   "metadata": {},
   "outputs": [
    {
     "name": "stdout",
     "output_type": "stream",
     "text": [
      "harideephari already exist.\n"
     ]
    }
   ],
   "source": [
    "def addcontact(name,phone,email):\n",
    "    #verify that the contact does not already exist\n",
    "    if name in contacts:\n",
    "        print(name,\"already exist.\")\n",
    "    else:\n",
    "        if not phonenumbervalidator(phone):\n",
    "            print(\"Invalid Phone number\")\n",
    "            return\n",
    "        if not emailvalidator(email):\n",
    "            print(\"Ivalid email address\")\n",
    "            return\n",
    "        newcontact=[]\n",
    "        newcontact.append(phone)\n",
    "        newcontact.append(email)\n",
    "        contacts[name]=newcontact\n",
    "    return\n",
    "addcontact(\"harideephari\",\"7013203178\",\"harideep028@gmail.com\")"
   ]
  },
  {
   "cell_type": "code",
   "execution_count": 35,
   "metadata": {},
   "outputs": [
    {
     "data": {
      "text/plain": [
       "{'harideephari': ['7013203178', 'harideep028@gmail.com']}"
      ]
     },
     "execution_count": 35,
     "metadata": {},
     "output_type": "execute_result"
    }
   ],
   "source": [
    "contacts"
   ]
  },
  {
   "cell_type": "code",
   "execution_count": 46,
   "metadata": {},
   "outputs": [
    {
     "name": "stdout",
     "output_type": "stream",
     "text": [
      "dady\n",
      "phone : 9440615256\n",
      "Email id : nippo@gmail.com\n"
     ]
    }
   ],
   "source": [
    "def searchcontacts(name):\n",
    "    if name in contacts:\n",
    "        print(name)\n",
    "        print(\"phone :\",contacts[name][0])\n",
    "        print(\"Email id :\",contacts[name][1])\n",
    "    else:\n",
    "        print(\"%s does not exist\"%name)\n",
    "    return\n",
    "searchcontacts(\"dady\")"
   ]
  },
  {
   "cell_type": "code",
   "execution_count": null,
   "metadata": {},
   "outputs": [],
   "source": []
  },
  {
   "cell_type": "code",
   "execution_count": 44,
   "metadata": {},
   "outputs": [
    {
     "name": "stdout",
     "output_type": "stream",
     "text": [
      "1 added successfully\n"
     ]
    }
   ],
   "source": [
    "def importcontacts(newcontacts):\n",
    "    print(len(newcontacts.keys()),\"added successfully\")\n",
    "    contacts.update(newcontacts)\n",
    "    \n",
    "newcontacts={\"dady\":[9440615256,\"nippo@gmail.com\"]}\n",
    "importcontacts(newcontacts)"
   ]
  },
  {
   "cell_type": "code",
   "execution_count": 45,
   "metadata": {},
   "outputs": [
    {
     "data": {
      "text/plain": [
       "{'harideephari': ['7013203178', 'harideep028@gmail.com'],\n",
       " 'dady': [9440615256, 'nippo@gmail.com']}"
      ]
     },
     "execution_count": 45,
     "metadata": {},
     "output_type": "execute_result"
    }
   ],
   "source": [
    "contacts"
   ]
  },
  {
   "cell_type": "code",
   "execution_count": 49,
   "metadata": {},
   "outputs": [
    {
     "name": "stdout",
     "output_type": "stream",
     "text": [
      "harideephari\n",
      "Mobile Number : 7013203178\n",
      "Email Id:  harideep028@gmail.com\n",
      "dady\n",
      "Mobile Number : 9440615256\n",
      "Email Id:  nippo@gmail.com\n"
     ]
    }
   ],
   "source": [
    "def Listallcontacts():\n",
    "    for i in contacts:\n",
    "        print(i)\n",
    "        print(\"Mobile Number :\",contacts[i][0])\n",
    "        print(\"Email Id: \",contacts[i][1])\n",
    "Listallcontacts()"
   ]
  },
  {
   "cell_type": "code",
   "execution_count": 58,
   "metadata": {},
   "outputs": [
    {
     "name": "stdout",
     "output_type": "stream",
     "text": [
      "Contact not in list\n"
     ]
    }
   ],
   "source": [
    "def modifycontact(name,phone):\n",
    "    if name in contacts:\n",
    "        contacts[name]=phone\n",
    "    else:\n",
    "        print(\"Contact not in list\")\n",
    "modifycontact(\"harideep\",7013203128)"
   ]
  },
  {
   "cell_type": "code",
   "execution_count": 56,
   "metadata": {},
   "outputs": [
    {
     "data": {
      "text/plain": [
       "{'harideephari': 'harr', 'dady': [9440615256, 'nippo@gmail.com']}"
      ]
     },
     "execution_count": 56,
     "metadata": {},
     "output_type": "execute_result"
    }
   ],
   "source": [
    "contacts"
   ]
  },
  {
   "cell_type": "markdown",
   "metadata": {},
   "source": [
    "# File handling in python\n",
    "\n",
    "File - Document containing information technology\n",
    "Types - Text,pdf,csv etc\n",
    "\n",
    "File I/O:\n",
    "channelling I/O data to files\n",
    "Default I/O channels- Keyboard/screen\n",
    "\n",
    "change I/O to files for reading and writing in to files:\n",
    "\n",
    "\n",
    "Read a file - open  (Input)\n",
    "write to a file - Output to a file\n",
    "\n",
    "\n",
    "Read / Write a file -- open(filename,mode)"
   ]
  },
  {
   "cell_type": "code",
   "execution_count": 68,
   "metadata": {},
   "outputs": [
    {
     "name": "stdout",
     "output_type": "stream",
     "text": [
      "Line 1\n",
      "\n",
      "Line 2\n",
      "\n",
      "Line 3\n",
      "Line 1\n",
      "Line 2\n",
      "Line 3\n"
     ]
    }
   ],
   "source": [
    "#Function to read a file\n",
    "\n",
    "def readFile(filename):\n",
    "    f=open(filename,'r')\n",
    "    filedata=f.read()\n",
    "    f.close()\n",
    "    return filedata\n",
    "\n",
    "filename='DataFiles/data.txt'\n",
    "readFile(filename)\n",
    "#for line in readFile(filename).split('\\n'):\n",
    "   # print(line)\n",
    "    \n",
    "def printfiledatalines(filename):\n",
    "    f=open(filename,'r')\n",
    "    for line in f:\n",
    "        print(line)\n",
    "    f.close()\n",
    "    return\n",
    "printfiledatalines(filename)\n",
    "print(readFile(filename))"
   ]
  },
  {
   "cell_type": "code",
   "execution_count": 69,
   "metadata": {},
   "outputs": [],
   "source": [
    "# Function to write data into file\n",
    "\n",
    "def writeintofile(filename,filedata):\n",
    "    with open(filename,\"w\") as f:\n",
    "        f.write(filedata)\n",
    "    return\n",
    "\n",
    "filename=\"DataFiles/data.txt\"\n",
    "writeintofile(filename,\"new data\")"
   ]
  },
  {
   "cell_type": "code",
   "execution_count": 70,
   "metadata": {},
   "outputs": [],
   "source": [
    "#Function to append data to a file\n",
    "\n",
    "def append(filename,filedata):\n",
    "    with open(filename,\"a\") as f:\n",
    "        f.write(filedata)\n",
    "    return\n",
    "\n",
    "filename=\"DataFiles/data.txt\"\n",
    "append(filename,\"new data\\n\")"
   ]
  },
  {
   "cell_type": "code",
   "execution_count": null,
   "metadata": {},
   "outputs": [],
   "source": []
  }
 ],
 "metadata": {
  "kernelspec": {
   "display_name": "Python 3",
   "language": "python",
   "name": "python3"
  },
  "language_info": {
   "codemirror_mode": {
    "name": "ipython",
    "version": 3
   },
   "file_extension": ".py",
   "mimetype": "text/x-python",
   "name": "python",
   "nbconvert_exporter": "python",
   "pygments_lexer": "ipython3",
   "version": "3.7.3"
  }
 },
 "nbformat": 4,
 "nbformat_minor": 2
}
